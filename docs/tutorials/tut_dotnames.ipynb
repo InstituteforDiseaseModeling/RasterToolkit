{
 "cells": [
  {
   "cell_type": "markdown",
   "metadata": {},
   "source": [
    "# T0 - Add DOTNAME field\n",
    "In this tutorial we show how to add a new field, \"DOTNAME\", to a shapefile. RasterTools often uses this field as part of the book-keeping."
   ]
  },
  {
   "cell_type": "code",
   "execution_count": null,
   "metadata": {},
   "outputs": [],
   "source": [
    "import zipfile\n",
    "import rastertools\n",
    "from pathlib import Path\n",
    "from shapefile import Reader, Writer\n",
    "from rastertools.shape import plot_shapes, long_mult\n",
    "from zenodo_client import Zenodo\n",
    "print(f\"rastertools version v{rastertools.__version__}\")"
   ]
  },
  {
   "cell_type": "markdown",
   "metadata": {},
   "source": [
    "We will use Zenodo to download some shapefiles created for the report \"A Climate Resilient Path for Ireland’s Marine Protected Areas Network\". From [the documentation](https://zenodo.org/records/10790050):\n",
    "\n",
    "> These shapefiles summarise long-term patterns that emerge from the spatial-meta analysis of physical-biogeochemical and species distribution modelling data, providing an overview of the distribution of climate change refugia and climate change hotspots across Ireland's National Marine Planning Framework between 2026 - 2069, and across the two emissions scenarios considered in the report (RCP4.5 and RCP8.5)."
   ]
  },
  {
   "cell_type": "code",
   "execution_count": 2,
   "metadata": {},
   "outputs": [],
   "source": [
    "# downlod and extract from zenodo\n",
    "# https://zenodo.org/records/10790050\n",
    "new_record = Zenodo().download_latest(10790050, 'FairSeas_refugia_hotspots_shapefiles_2024.zip')\n",
    "with zipfile.ZipFile(new_record, 'r') as zip_ref:\n",
    "    zip_ref.extractall(Path('./results') / new_record.stem)"
   ]
  },
  {
   "cell_type": "markdown",
   "metadata": {},
   "source": [
    "Here is some information about the shapefile and its associated metadata:"
   ]
  },
  {
   "cell_type": "code",
   "execution_count": 3,
   "metadata": {},
   "outputs": [
    {
     "name": "stdout",
     "output_type": "stream",
     "text": [
      "Number of records: 1\n",
      "Fields in the original shapefile:\n",
      "['lyr_1']\n",
      "For examples, the first record:\n",
      "{'lyr_1': -1}\n"
     ]
    }
   ],
   "source": [
    "# original shapefile\n",
    "shape_file = Path('./results/FairSeas_refugia_hotspots_shapefiles_2024/FairSeas_pelagic_habitats_hotspots_80/FairSeas_pelagic_habitats_hotspots_80_new.shp')\n",
    "sf = Reader(shape_file)\n",
    "\n",
    "# number of records\n",
    "num_records = len(sf.records())\n",
    "\n",
    "# print the field names for the records\n",
    "print(f\"Number of records: {num_records}\")\n",
    "print(\"Fields in the original shapefile:\")\n",
    "print([field[0] for field in sf.fields[1:]])\n",
    "print(\"For examples, the first record:\")\n",
    "print(sf.record(0).as_dict())"
   ]
  },
  {
   "cell_type": "markdown",
   "metadata": {},
   "source": [
    "But when we try to plot it using RasterTools `plot_shapes` function we get an error:"
   ]
  },
  {
   "cell_type": "code",
   "execution_count": 4,
   "metadata": {},
   "outputs": [
    {
     "name": "stdout",
     "output_type": "stream",
     "text": [
      "Error: DOTNAME is not a field name\n"
     ]
    },
    {
     "data": {
      "image/png": "[encoded data removed]",
      "text/plain": [
       "<Figure size 640x480 with 1 Axes>"
      ]
     },
     "metadata": {},
     "output_type": "display_data"
    }
   ],
   "source": [
    "try:\n",
    "    fig, ax = plot_shapes(shape_file)\n",
    "except Exception as e:\n",
    "    print(f\"Error: {e}\")"
   ]
  },
  {
   "cell_type": "markdown",
   "metadata": {},
   "source": [
    "Here is an example of how to create a new shapefile with a DOTNAME field. Often you might want to combine meta data, for example if you had a shapefile of US counties you could create a \"COUNTY.STATE\" DOTNAME. In this example we only have one field so we'll just use that."
   ]
  },
  {
   "cell_type": "code",
   "execution_count": 5,
   "metadata": {},
   "outputs": [],
   "source": [
    "def add_dotname(shapefile, dotname_fields=['lyr_1']):\n",
    "\n",
    "    new_shape_file = shapefile.parent / (shapefile.stem + '_DN.shp')\n",
    "\n",
    "    # shapefiles\n",
    "    sf = Reader(shapefile)\n",
    "    w = Writer(target=new_shape_file)\n",
    "\n",
    "    # add the original fields\n",
    "    for i, field in enumerate(sf.fields):\n",
    "        if i > 0:\n",
    "            w.field(*field)\n",
    "    # add the new field\n",
    "    w.field('DOTNAME', 'C', 50)\n",
    "\n",
    "    for i, shaperec in enumerate(sf.iterShapeRecords()):\n",
    "        # add the new field\n",
    "        w.record(*shaperec.record, '.'.join([str(shaperec.record[field]).lower() for field in dotname_fields]))\n",
    "        # add the shape\n",
    "        w.shape(shaperec.shape)\n",
    "    w.close()\n",
    "    sf.close()\n",
    "\n",
    "    return new_shape_file\n",
    "\n",
    "new_shape_file = add_dotname(shape_file, dotname_fields=['lyr_1'])"
   ]
  },
  {
   "cell_type": "markdown",
   "metadata": {},
   "source": [
    "and now we can plot:"
   ]
  },
  {
   "cell_type": "code",
   "execution_count": 6,
   "metadata": {},
   "outputs": [
    {
     "data": {
      "image/png": "[encoded data removed]",
      "text/plain": [
       "<Figure size 640x480 with 1 Axes>"
      ]
     },
     "metadata": {},
     "output_type": "display_data"
    }
   ],
   "source": [
    "fig, ax = plot_shapes(new_shape_file)\n",
    "ax.set_box_aspect(long_mult(0.5*(sf.bbox[1] + sf.bbox[3])))"
   ]
  }
 ],
 "metadata": {
  "kernelspec": {
   "display_name": ".venv",
   "language": "python",
   "name": "python3"
  },
  "language_info": {
   "codemirror_mode": {
    "name": "ipython",
    "version": 3
   },
   "file_extension": ".py",
   "mimetype": "text/x-python",
   "name": "python",
   "nbconvert_exporter": "python",
   "pygments_lexer": "ipython3",
   "version": "3.9.21"
  }
 },
 "nbformat": 4,
 "nbformat_minor": 2
}
